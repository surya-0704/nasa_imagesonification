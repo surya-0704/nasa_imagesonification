{
  "nbformat": 4,
  "nbformat_minor": 0,
  "metadata": {
    "colab": {
      "provenance": []
    },
    "kernelspec": {
      "name": "python3",
      "display_name": "Python 3"
    },
    "language_info": {
      "name": "python"
    }
  },
  "cells": [
    {
      "cell_type": "code",
      "execution_count": 2,
      "metadata": {
        "colab": {
          "base_uri": "https://localhost:8080/"
        },
        "id": "GkkwZldnEcQf",
        "outputId": "dafb7976-5626-43dd-fcc4-83ae4d808526"
      },
      "outputs": [
        {
          "output_type": "stream",
          "name": "stdout",
          "text": [
            "Sound file saved at color.jpeg_30_.wav\n"
          ]
        }
      ],
      "source": [
        "from PIL import Image\n",
        "import soundfile as sf\n",
        "import numpy as np\n",
        "import librosa\n",
        "\n",
        "# Load the image\n",
        "image_path = 'color.jpeg'\n",
        "img = Image.open(image_path)\n",
        "\n",
        "# Parameters\n",
        "sample_rate = 44100  # Adjust as needed\n",
        "duration = 30  # Duration of the audio (in seconds)\n",
        "line_width = 10  # Width of the vertical line\n",
        "\n",
        "# Get image data as RGB values\n",
        "image_data = np.array(img)\n",
        "\n",
        "# Initialize arrays to store pitch and volume data\n",
        "color_pitch = []\n",
        "volume = []\n",
        "\n",
        "# Mapping from color to musical notes (example mapping)\n",
        "color_to_note = {\n",
        "    (255, 0, 0): 'C4',  # Red\n",
        "    (255, 127, 0): 'D4',  # Orange\n",
        "    (255, 255, 0): 'E4',  # Yellow\n",
        "    (0, 255, 0): 'F4',  # Green\n",
        "    (0, 0, 255): 'G4',  # Blue\n",
        "    (75, 0, 130): 'A4',  # Indigo\n",
        "    (143, 0, 255): 'B4'   # Violet\n",
        "}\n",
        "\n",
        "# Create a list of colors for mapping to notes\n",
        "colors = list(color_to_note.keys())\n",
        "\n",
        "# Iterate through vertical lines from left to right\n",
        "for i in range(image_data.shape[1] // line_width):\n",
        "    line = image_data[:, i * line_width:(i + 1) * line_width]\n",
        "\n",
        "    # Find the brightest pixel in the line\n",
        "    brightest_pixel = np.max(line, axis=(0, 1))\n",
        "\n",
        "    # Map the brightest color to a musical note or frequency\n",
        "    closest_color = min(colors, key=lambda color: np.linalg.norm(np.array(brightest_pixel) - np.array(color)))\n",
        "\n",
        "    # Skip the line if the color is not found\n",
        "    if closest_color not in color_to_note:\n",
        "        continue\n",
        "\n",
        "    # Map the closest color to a musical note or frequency\n",
        "    note = color_to_note[closest_color]\n",
        "    frequency = librosa.note_to_hz(note)\n",
        "\n",
        "    # Use the green channel for volume\n",
        "    volume_value = brightest_pixel[1] / 255.0\n",
        "    volume.append(volume_value)\n",
        "\n",
        "    color_pitch.append(frequency)\n",
        "\n",
        "# Generate the sound waveform with a smooth transition between consecutive frequencies\n",
        "t = np.linspace(0, duration, int(sample_rate * duration), endpoint=False)\n",
        "sound_wave = np.zeros_like(t)\n",
        "\n",
        "for i in range(1, len(color_pitch)):\n",
        "    start_idx = int((i - 1) * len(t) / len(color_pitch))\n",
        "    end_idx = int(i * len(t) / len(color_pitch))\n",
        "\n",
        "    # Linearly interpolate between consecutive frequencies and volumes\n",
        "    freq_interp = np.linspace(color_pitch[i - 1], color_pitch[i], end_idx - start_idx)\n",
        "    vol_interp = np.linspace(volume[i - 1], volume[i], end_idx - start_idx)\n",
        "\n",
        "    sound_wave[start_idx:end_idx] = 0.5 * vol_interp * np.sin(2 * np.pi * freq_interp * t[start_idx:end_idx])\n",
        "\n",
        "# Save the sound to a WAV file\n",
        "output_path = f'{image_path}_{duration}_.wav'\n",
        "sf.write(output_path, sound_wave, sample_rate)\n",
        "print(f\"Sound file saved at {output_path}\")\n"
      ]
    }
  ]
}